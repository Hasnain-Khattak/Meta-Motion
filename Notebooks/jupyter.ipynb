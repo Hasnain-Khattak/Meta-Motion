{
 "cells": [
  {
   "cell_type": "markdown",
   "metadata": {},
   "source": [
    "> ## **Reason to create this Notebook**"
   ]
  },
  {
   "cell_type": "markdown",
   "metadata": {},
   "source": [
    "I have created this notebook because I feel easy to wite code in jupyter notebook and after completing all the tasks I will write back in python file."
   ]
  },
  {
   "cell_type": "markdown",
   "metadata": {},
   "source": [
    "## **Importing Libraries**"
   ]
  },
  {
   "cell_type": "code",
   "execution_count": 1,
   "metadata": {},
   "outputs": [],
   "source": [
    "import pandas as pd\n",
    "from glob import glob"
   ]
  },
  {
   "cell_type": "code",
   "execution_count": 4,
   "metadata": {},
   "outputs": [],
   "source": [
    "## First I am reading single CSV file\n",
    "single_file_acc = pd.read_csv('../Raw/MetaMotion/A-bench-heavy2-rpe8_MetaWear_2019-01-11T16.10.08.270_C42732BE255C_Accelerometer_12.500Hz_1.4.4.csv')"
   ]
  },
  {
   "cell_type": "code",
   "execution_count": 5,
   "metadata": {},
   "outputs": [
    {
     "data": {
      "text/html": [
       "<div>\n",
       "<style scoped>\n",
       "    .dataframe tbody tr th:only-of-type {\n",
       "        vertical-align: middle;\n",
       "    }\n",
       "\n",
       "    .dataframe tbody tr th {\n",
       "        vertical-align: top;\n",
       "    }\n",
       "\n",
       "    .dataframe thead th {\n",
       "        text-align: right;\n",
       "    }\n",
       "</style>\n",
       "<table border=\"1\" class=\"dataframe\">\n",
       "  <thead>\n",
       "    <tr style=\"text-align: right;\">\n",
       "      <th></th>\n",
       "      <th>epoch (ms)</th>\n",
       "      <th>time (01:00)</th>\n",
       "      <th>elapsed (s)</th>\n",
       "      <th>x-axis (g)</th>\n",
       "      <th>y-axis (g)</th>\n",
       "      <th>z-axis (g)</th>\n",
       "    </tr>\n",
       "  </thead>\n",
       "  <tbody>\n",
       "    <tr>\n",
       "      <th>0</th>\n",
       "      <td>1547219408431</td>\n",
       "      <td>2019-01-11T16:10:08.431</td>\n",
       "      <td>0.00</td>\n",
       "      <td>0.010</td>\n",
       "      <td>0.964</td>\n",
       "      <td>-0.087</td>\n",
       "    </tr>\n",
       "    <tr>\n",
       "      <th>1</th>\n",
       "      <td>1547219408511</td>\n",
       "      <td>2019-01-11T16:10:08.511</td>\n",
       "      <td>0.08</td>\n",
       "      <td>0.000</td>\n",
       "      <td>0.961</td>\n",
       "      <td>-0.069</td>\n",
       "    </tr>\n",
       "    <tr>\n",
       "      <th>2</th>\n",
       "      <td>1547219408591</td>\n",
       "      <td>2019-01-11T16:10:08.591</td>\n",
       "      <td>0.16</td>\n",
       "      <td>0.001</td>\n",
       "      <td>0.974</td>\n",
       "      <td>-0.087</td>\n",
       "    </tr>\n",
       "    <tr>\n",
       "      <th>3</th>\n",
       "      <td>1547219408671</td>\n",
       "      <td>2019-01-11T16:10:08.671</td>\n",
       "      <td>0.24</td>\n",
       "      <td>-0.012</td>\n",
       "      <td>0.971</td>\n",
       "      <td>-0.084</td>\n",
       "    </tr>\n",
       "    <tr>\n",
       "      <th>4</th>\n",
       "      <td>1547219408751</td>\n",
       "      <td>2019-01-11T16:10:08.751</td>\n",
       "      <td>0.32</td>\n",
       "      <td>-0.013</td>\n",
       "      <td>0.954</td>\n",
       "      <td>-0.094</td>\n",
       "    </tr>\n",
       "    <tr>\n",
       "      <th>5</th>\n",
       "      <td>1547219408831</td>\n",
       "      <td>2019-01-11T16:10:08.831</td>\n",
       "      <td>0.40</td>\n",
       "      <td>-0.017</td>\n",
       "      <td>0.902</td>\n",
       "      <td>-0.108</td>\n",
       "    </tr>\n",
       "    <tr>\n",
       "      <th>6</th>\n",
       "      <td>1547219408911</td>\n",
       "      <td>2019-01-11T16:10:08.911</td>\n",
       "      <td>0.48</td>\n",
       "      <td>-0.025</td>\n",
       "      <td>0.855</td>\n",
       "      <td>-0.128</td>\n",
       "    </tr>\n",
       "    <tr>\n",
       "      <th>7</th>\n",
       "      <td>1547219408991</td>\n",
       "      <td>2019-01-11T16:10:08.991</td>\n",
       "      <td>0.56</td>\n",
       "      <td>-0.042</td>\n",
       "      <td>0.844</td>\n",
       "      <td>-0.139</td>\n",
       "    </tr>\n",
       "    <tr>\n",
       "      <th>8</th>\n",
       "      <td>1547219409071</td>\n",
       "      <td>2019-01-11T16:10:09.071</td>\n",
       "      <td>0.64</td>\n",
       "      <td>-0.049</td>\n",
       "      <td>0.875</td>\n",
       "      <td>-0.171</td>\n",
       "    </tr>\n",
       "    <tr>\n",
       "      <th>9</th>\n",
       "      <td>1547219409151</td>\n",
       "      <td>2019-01-11T16:10:09.151</td>\n",
       "      <td>0.72</td>\n",
       "      <td>-0.075</td>\n",
       "      <td>0.871</td>\n",
       "      <td>-0.139</td>\n",
       "    </tr>\n",
       "  </tbody>\n",
       "</table>\n",
       "</div>"
      ],
      "text/plain": [
       "      epoch (ms)             time (01:00)  elapsed (s)  x-axis (g)  \\\n",
       "0  1547219408431  2019-01-11T16:10:08.431         0.00       0.010   \n",
       "1  1547219408511  2019-01-11T16:10:08.511         0.08       0.000   \n",
       "2  1547219408591  2019-01-11T16:10:08.591         0.16       0.001   \n",
       "3  1547219408671  2019-01-11T16:10:08.671         0.24      -0.012   \n",
       "4  1547219408751  2019-01-11T16:10:08.751         0.32      -0.013   \n",
       "5  1547219408831  2019-01-11T16:10:08.831         0.40      -0.017   \n",
       "6  1547219408911  2019-01-11T16:10:08.911         0.48      -0.025   \n",
       "7  1547219408991  2019-01-11T16:10:08.991         0.56      -0.042   \n",
       "8  1547219409071  2019-01-11T16:10:09.071         0.64      -0.049   \n",
       "9  1547219409151  2019-01-11T16:10:09.151         0.72      -0.075   \n",
       "\n",
       "   y-axis (g)  z-axis (g)  \n",
       "0       0.964      -0.087  \n",
       "1       0.961      -0.069  \n",
       "2       0.974      -0.087  \n",
       "3       0.971      -0.084  \n",
       "4       0.954      -0.094  \n",
       "5       0.902      -0.108  \n",
       "6       0.855      -0.128  \n",
       "7       0.844      -0.139  \n",
       "8       0.875      -0.171  \n",
       "9       0.871      -0.139  "
      ]
     },
     "execution_count": 5,
     "metadata": {},
     "output_type": "execute_result"
    }
   ],
   "source": [
    "single_file_acc.head(10)"
   ]
  },
  {
   "cell_type": "code",
   "execution_count": 6,
   "metadata": {},
   "outputs": [],
   "source": [
    "single_file_gyro = pd.read_csv('../Raw/MetaMotion/A-bench-heavy2-rpe8_MetaWear_2019-01-11T16.10.08.270_C42732BE255C_Gyroscope_25.000Hz_1.4.4.csv')"
   ]
  },
  {
   "cell_type": "code",
   "execution_count": 7,
   "metadata": {},
   "outputs": [],
   "source": [
    "files = glob('../Raw/MetaMotion/*.csv')"
   ]
  },
  {
   "cell_type": "code",
   "execution_count": 9,
   "metadata": {},
   "outputs": [
    {
     "data": {
      "text/plain": [
       "187"
      ]
     },
     "execution_count": 9,
     "metadata": {},
     "output_type": "execute_result"
    }
   ],
   "source": [
    "len(files)"
   ]
  },
  {
   "cell_type": "code",
   "execution_count": null,
   "metadata": {},
   "outputs": [],
   "source": []
  }
 ],
 "metadata": {
  "kernelspec": {
   "display_name": "tensorflow-python",
   "language": "python",
   "name": "python3"
  },
  "language_info": {
   "codemirror_mode": {
    "name": "ipython",
    "version": 3
   },
   "file_extension": ".py",
   "mimetype": "text/x-python",
   "name": "python",
   "nbconvert_exporter": "python",
   "pygments_lexer": "ipython3",
   "version": "3.11.0"
  }
 },
 "nbformat": 4,
 "nbformat_minor": 2
}
